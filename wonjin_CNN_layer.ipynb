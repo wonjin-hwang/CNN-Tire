{
 "cells": [
  {
   "cell_type": "code",
   "execution_count": 1,
   "metadata": {},
   "outputs": [
    {
     "name": "stdout",
     "output_type": "stream",
     "text": [
      "WARNING:tensorflow:From C:\\Users\\chunjae\\AppData\\Roaming\\Python\\Python311\\site-packages\\keras\\src\\losses.py:2976: The name tf.losses.sparse_softmax_cross_entropy is deprecated. Please use tf.compat.v1.losses.sparse_softmax_cross_entropy instead.\n",
      "\n"
     ]
    }
   ],
   "source": [
    "\n",
    "import cv2\n",
    "import numpy as np\n",
    "from keras.utils import to_categorical\n",
    "import matplotlib.pyplot as plt\n",
    "from PIL import Image\n",
    "import torch\n",
    "import torch.nn as nn #파이토치에있는 딥러닝레이어만들때 쓰는모듈\n",
    "import torch.nn.functional as F\n",
    "import torch.optim as optim\n",
    "from torchvision import datasets,transforms\n",
    "import matplotlib.pyplot as plt\n",
    "import cv2\n",
    "import os\n",
    "import random\n",
    "import tensorflow as tf\n",
    "os.environ['KMP_DUPLICATE_LIB_OK']='True'\n",
    "\n",
    "real_seed = 42\n",
    "np.random.seed(real_seed)\n",
    "tf.random.set_seed(real_seed)\n",
    "torch.manual_seed(real_seed)\n",
    "random.seed(real_seed)"
   ]
  },
  {
   "cell_type": "code",
   "execution_count": 2,
   "metadata": {},
   "outputs": [],
   "source": [
    "import os\n",
    "from PIL import Image\n",
    "\n",
    "\n",
    "train_normal=\"C:/Users/chunjae/Downloads/Tire_Textures/training_data/normal\"\n",
    "train_crack=\"C:/Users/chunjae/Downloads/Tire_Textures/training_data/cracked\"\n",
    "test_normal=\"C:/Users/chunjae/Downloads/Tire_Textures/testing_data/normal\"\n",
    "test_crack=\"C:/Users/chunjae/Downloads/Tire_Textures/testing_data/cracked\"\n",
    "\n",
    "train_n = os.listdir(train_normal)\n",
    "train_c = os.listdir(train_crack)\n",
    "test_n = os.listdir(test_normal)\n",
    "test_c = os.listdir(test_crack)\n",
    "\n",
    "\n",
    "train_n_files = [f for f in train_n if f.endswith(('jpg', 'jpeg', 'png'))]\n",
    "train_c_files = [f for f in train_c if f.endswith(('jpg', 'jpeg', 'png'))]\n",
    "test_n_files = [f for f in test_n if f.endswith(('jpg', 'jpeg', 'png'))]\n",
    "test_c_files = [f for f in test_c if f.endswith(('jpg', 'jpeg', 'png'))]"
   ]
  },
  {
   "cell_type": "code",
   "execution_count": 3,
   "metadata": {},
   "outputs": [],
   "source": [
    "def resize_and_convert_to_grayscale(file_list, directory, target_size=(128,128)):\n",
    "    resized_images = []\n",
    "    for image_file in file_list:\n",
    "        image_path = '/'.join([directory, image_file])\n",
    "        img = cv2.imread(image_path)\n",
    "        if img is not None:\n",
    "            # 이미지 크기 조정\n",
    "            img_resized = cv2.resize(img, target_size)\n",
    "            # 이미지를 흑백으로 변환\n",
    "            img_gray = cv2.cvtColor(img_resized, cv2.COLOR_BGR2GRAY)\n",
    "            # 변환된 이미지를 다시 저장\n",
    "            cv2.imwrite(image_path, img_gray)\n",
    "            resized_images.append((image_file, img_gray))\n",
    "            # 좌우 반전\n",
    "            img_flip_lr = cv2.flip(img_gray, 1)\n",
    "            cv2.imwrite(os.path.join(directory, f\"flipped_lr_{image_file}\"), img_flip_lr)\n",
    "            resized_images.append((f\"flipped_lr_{image_file}\", img_flip_lr))\n",
    "            # 상하 반전\n",
    "            img_flip_ud = cv2.flip(img_gray, 0)\n",
    "            cv2.imwrite(os.path.join(directory, f\"flipped_ud_{image_file}\"), img_flip_ud)\n",
    "            resized_images.append((f\"flipped_ud_{image_file}\", img_flip_ud))\n",
    "            # 상하 좌우 반전\n",
    "            img_flip_both = cv2.flip(img_gray, -1)\n",
    "            cv2.imwrite(os.path.join(directory, f\"flipped_both_{image_file}\"), img_flip_both)\n",
    "            resized_images.append((f\"flipped_both_{image_file}\", img_flip_both))\n",
    "             # 90도 회전\n",
    "            rows, cols = img_gray.shape\n",
    "            M2 = cv2.getRotationMatrix2D((cols / 2, rows / 2), 90, 1)\n",
    "            rotated_img2 = cv2.warpAffine(img_gray, M2, (cols, rows))\n",
    "            cv2.imwrite(os.path.join(directory, f\"rotated_90_{image_file}\"), rotated_img2)\n",
    "            resized_images.append((f\"rotated_90_{image_file}\", rotated_img2))\n",
    "            # 90도 회전 후 좌우 반전\n",
    "            rotated_flip_lr = cv2.flip(rotated_img2, 1)\n",
    "            cv2.imwrite(os.path.join(directory, f\"rotated_90_flipped_lr_{image_file}\"), rotated_flip_lr)\n",
    "            resized_images.append((f\"rotated_90_flipped_lr_{image_file}\", rotated_flip_lr))\n",
    "            # 90도 회전 후 상하 반전\n",
    "            rotated_flip_ud = cv2.flip(rotated_img2, 0)\n",
    "            cv2.imwrite(os.path.join(directory, f\"rotated_90_flipped_ud_{image_file}\"), rotated_flip_ud)\n",
    "            resized_images.append((f\"rotated_90_flipped_ud_{image_file}\", rotated_flip_ud))\n",
    "            # 90도 회전 후 상하 좌우 반전\n",
    "            rotated_flip_both = cv2.flip(rotated_img2, -1)\n",
    "            cv2.imwrite(os.path.join(directory, f\"rotated_90_flipped_both_{image_file}\"), rotated_flip_both)\n",
    "            resized_images.append((f\"rotated_90_flipped_both_{image_file}\", rotated_flip_both))\n",
    "        else:\n",
    "            print(f\"Failed to read {image_path}\")\n",
    "    return resized_images\n",
    "# 각 데이터셋의 이미지 크기 조정 및 흑백으로 변환\n",
    "resized_train_normal_images = resize_and_convert_to_grayscale(train_n_files, train_normal)\n",
    "resized_train_crack_images = resize_and_convert_to_grayscale(train_c_files, train_crack)\n",
    "resized_test_normal_images = resize_and_convert_to_grayscale(test_n_files, test_normal)\n",
    "resized_test_crack_images = resize_and_convert_to_grayscale(test_c_files, test_crack)\n",
    "\n",
    "# import random\n",
    "# def display_random_image(images):\n",
    "#     image_file, img = random.choice(images)\n",
    "#     cv2.imshow(image_file, img)\n",
    "#     os.environ['KMP_DUPLICATE_LIB_OK']='True'\n",
    "#     cv2.waitKey(0)\n",
    "#     cv2.destroyAllWindows()\n",
    "\n",
    "# print(\"Displaying a Random Resized and Converted Train Normal Image...\")\n",
    "# display_random_image(resized_train_normal_images)\n",
    "# print(\"Displaying a Random Resized and Converted Train Crack Image...\")\n",
    "# display_random_image(resized_train_crack_images)\n",
    "# print(\"Displaying a Random Resized and Converted Test Normal Image...\")\n",
    "# display_random_image(resized_test_normal_images)\n",
    "# print(\"Displaying a Random Resized and Converted Test Crack Image...\")\n",
    "# display_random_image(resized_test_crack_images)\n",
    "\n"
   ]
  },
  {
   "cell_type": "code",
   "execution_count": 4,
   "metadata": {},
   "outputs": [],
   "source": [
    "# import random\n",
    "# def display_random_image(images):\n",
    "#     image_file, img = random.choice(images)\n",
    "#     cv2.imshow(image_file, img)\n",
    "#     os.environ['KMP_DUPLICATE_LIB_OK']='True'\n",
    "#     cv2.waitKey(0)\n",
    "#     cv2.destroyAllWindows()\n",
    "\n",
    "# print(\"Displaying a Random Resized and Converted Train Normal Image...\")\n",
    "# display_random_image(resized_train_normal_images)\n",
    "# print(\"Displaying a Random Resized and Converted Train Crack Image...\")\n",
    "# display_random_image(resized_train_crack_images)\n",
    "# print(\"Displaying a Random Resized and Converted Test Normal Image...\")\n",
    "# display_random_image(resized_test_normal_images)\n",
    "# print(\"Displaying a Random Resized and Converted Test Crack Image...\")\n",
    "# display_random_image(resized_test_crack_images)"
   ]
  },
  {
   "cell_type": "code",
   "execution_count": 5,
   "metadata": {},
   "outputs": [],
   "source": [
    "import tensorflow as tf\n",
    "from tensorflow.keras import layers, models\n",
    "import numpy as np\n",
    "# 데이터 준비\n",
    "train_images = []\n",
    "train_labels = []\n",
    "# 손상되지 않은 타이어 이미지\n",
    "for image_file, img in resized_train_normal_images:\n",
    "    train_images.append(img)\n",
    "    train_labels.append(0)  # 손상되지 않은 타이어: 0\n",
    "# 손상된 타이어 이미지\n",
    "for image_file, img in resized_train_crack_images:\n",
    "    train_images.append(img)\n",
    "    train_labels.append(1)  # 손상된 타이어: 1\n",
    "train_images = np.array(train_images)\n",
    "train_labels = np.array(train_labels)\n",
    "# train_images = train_images / 255.0\n",
    "\n",
    "\n",
    "###################\n",
    "#테스트도 똑같이\n",
    "\n",
    "# 데이터 준비\n",
    "test_images = []\n",
    "test_labels = []\n",
    "# 손상되지 않은 타이어 이미지\n",
    "for image_file, img in resized_test_normal_images:\n",
    "    test_images.append(img)\n",
    "    test_labels.append(0)  # 손상되지 않은 타이어: 0\n",
    "# 손상된 타이어 이미지\n",
    "for image_file, img in resized_test_crack_images:\n",
    "    test_images.append(img)\n",
    "    test_labels.append(1)  # 손상된 타이어: 1\n",
    "test_images = np.array(test_images)\n",
    "test_labels = np.array(test_labels)\n",
    "# test_images = test_images / 255.0"
   ]
  },
  {
   "cell_type": "code",
   "execution_count": 6,
   "metadata": {},
   "outputs": [
    {
     "name": "stdout",
     "output_type": "stream",
     "text": [
      "5624\n",
      "5624\n",
      "2600\n",
      "2600\n"
     ]
    }
   ],
   "source": [
    "print(len(train_images))\n",
    "print(len(train_labels))\n",
    "print(len(test_images))\n",
    "print(len(test_labels))"
   ]
  },
  {
   "cell_type": "code",
   "execution_count": 7,
   "metadata": {},
   "outputs": [
    {
     "name": "stdout",
     "output_type": "stream",
     "text": [
      "WARNING:tensorflow:From C:\\Users\\chunjae\\AppData\\Roaming\\Python\\Python311\\site-packages\\keras\\src\\backend.py:873: The name tf.get_default_graph is deprecated. Please use tf.compat.v1.get_default_graph instead.\n",
      "\n",
      "WARNING:tensorflow:From C:\\Users\\chunjae\\AppData\\Roaming\\Python\\Python311\\site-packages\\keras\\src\\layers\\pooling\\max_pooling2d.py:161: The name tf.nn.max_pool is deprecated. Please use tf.nn.max_pool2d instead.\n",
      "\n",
      "Model: \"sequential\"\n",
      "_________________________________________________________________\n",
      " Layer (type)                Output Shape              Param #   \n",
      "=================================================================\n",
      " conv2d (Conv2D)             (None, 126, 126, 16)      160       \n",
      "                                                                 \n",
      " max_pooling2d (MaxPooling2  (None, 63, 63, 16)        0         \n",
      " D)                                                              \n",
      "                                                                 \n",
      " conv2d_1 (Conv2D)           (None, 61, 61, 32)        4640      \n",
      "                                                                 \n",
      " max_pooling2d_1 (MaxPoolin  (None, 30, 30, 32)        0         \n",
      " g2D)                                                            \n",
      "                                                                 \n",
      " conv2d_2 (Conv2D)           (None, 28, 28, 64)        18496     \n",
      "                                                                 \n",
      " max_pooling2d_2 (MaxPoolin  (None, 14, 14, 64)        0         \n",
      " g2D)                                                            \n",
      "                                                                 \n",
      " flatten (Flatten)           (None, 12544)             0         \n",
      "                                                                 \n",
      " dense (Dense)               (None, 512)               6423040   \n",
      "                                                                 \n",
      " dense_1 (Dense)             (None, 1)                 513       \n",
      "                                                                 \n",
      "=================================================================\n",
      "Total params: 6446849 (24.59 MB)\n",
      "Trainable params: 6446849 (24.59 MB)\n",
      "Non-trainable params: 0 (0.00 Byte)\n",
      "_________________________________________________________________\n"
     ]
    }
   ],
   "source": [
    "import tensorflow as tf\n",
    "\n",
    "model = tf.keras.models.Sequential([\n",
    "    tf.keras.layers.Conv2D(16, (3,3), activation='relu', input_shape=(32, 32, 1),kernel_regularizer=tf.keras.regularizers.l2(0.01)),\n",
    "    tf.keras.layers.MaxPooling2D(2,2),\n",
    "    tf.keras.layers.Conv2D(32, (3,3), activation='relu',kernel_regularizer=tf.keras.regularizers.l2(0.01)),\n",
    "    tf.keras.layers.MaxPooling2D(2,2),\n",
    "    tf.keras.layers.Conv2D(64, (3,3), activation='relu',kernel_regularizer=tf.keras.regularizers.l2(0.01)),\n",
    "    tf.keras.layers.MaxPooling2D(2,2),\n",
    "    tf.keras.layers.Flatten(),\n",
    "    tf.keras.layers.Dense(512, activation='relu'),\n",
    "    tf.keras.layers.Dense(1, activation='sigmoid')\n",
    "])\n",
    "model.summary()"
   ]
  },
  {
   "cell_type": "code",
   "execution_count": 8,
   "metadata": {},
   "outputs": [],
   "source": [
    "# from tensorflow.keras.optimizers import RMSprop\n",
    "from tensorflow.keras.optimizers import RMSprop\n",
    "from tensorflow.keras.optimizers import Adam\n",
    "from tensorflow.keras.optimizers import SGD\n",
    "\n",
    "# compile() 메서드를 이용해서 손실 함수 (loss function)와 옵티마이저 (optimizer)를 지정\n",
    "model.compile(optimizer=RMSprop(learning_rate=0.00005), # 옵티마이저로는 RMSprop 사용\n",
    "              loss='binary_crossentropy', # 손실 함수로 ‘binary_crossentropy’ 사용\n",
    "              metrics= ['accuracy'])\n",
    "# RMSprop (Root Mean Square Propagation) Algorithm: 훈련 과정 중에 학습률을 적절하게 변화시킨다."
   ]
  },
  {
   "cell_type": "code",
   "execution_count": 9,
   "metadata": {},
   "outputs": [
    {
     "name": "stdout",
     "output_type": "stream",
     "text": [
      "Epoch 1/13\n"
     ]
    },
    {
     "name": "stdout",
     "output_type": "stream",
     "text": [
      "WARNING:tensorflow:From C:\\Users\\chunjae\\AppData\\Roaming\\Python\\Python311\\site-packages\\keras\\src\\utils\\tf_utils.py:492: The name tf.ragged.RaggedTensorValue is deprecated. Please use tf.compat.v1.ragged.RaggedTensorValue instead.\n",
      "\n",
      "WARNING:tensorflow:From C:\\Users\\chunjae\\AppData\\Roaming\\Python\\Python311\\site-packages\\keras\\src\\engine\\base_layer_utils.py:384: The name tf.executing_eagerly_outside_functions is deprecated. Please use tf.compat.v1.executing_eagerly_outside_functions instead.\n",
      "\n",
      "22/22 [==============================] - ETA: 0s - loss: 13.7005 - accuracy: 0.4940\n",
      "에포크 1 - 트레이닝 손실: 13.700484275817871, 정확도: 0.49395447969436646, 테스트 손실: 3.0412368774414062, 테스트 정확도: 0.6526923179626465\n",
      "22/22 [==============================] - 8s 299ms/step - loss: 13.7005 - accuracy: 0.4940\n",
      "Epoch 2/13\n",
      "22/22 [==============================] - ETA: 0s - loss: 5.9170 - accuracy: 0.5004\n",
      "에포크 2 - 트레이닝 손실: 5.9169921875, 정확도: 0.50035560131073, 테스트 손실: 4.239110946655273, 테스트 정확도: 0.6499999761581421\n",
      "22/22 [==============================] - 6s 258ms/step - loss: 5.9170 - accuracy: 0.5004\n",
      "Epoch 3/13\n",
      "22/22 [==============================] - ETA: 0s - loss: 4.4574 - accuracy: 0.5112\n",
      "에포크 3 - 트레이닝 손실: 4.457408905029297, 정확도: 0.5112019777297974, 테스트 손실: 2.114623546600342, 테스트 정확도: 0.6596153974533081\n",
      "22/22 [==============================] - 6s 273ms/step - loss: 4.4574 - accuracy: 0.5112\n",
      "Epoch 4/13\n",
      "22/22 [==============================] - ETA: 0s - loss: 3.5591 - accuracy: 0.5192\n",
      "에포크 4 - 트레이닝 손실: 3.559143543243408, 정확도: 0.5192034244537354, 테스트 손실: 1.5702580213546753, 테스트 정확도: 0.6796153783798218\n",
      "22/22 [==============================] - 6s 275ms/step - loss: 3.5591 - accuracy: 0.5192\n",
      "Epoch 5/13\n",
      "22/22 [==============================] - ETA: 0s - loss: 3.0673 - accuracy: 0.5197\n",
      "에포크 5 - 트레이닝 손실: 3.067263603210449, 정확도: 0.5197368264198303, 테스트 손실: 1.73907470703125, 테스트 정확도: 0.6696153879165649\n",
      "22/22 [==============================] - 6s 272ms/step - loss: 3.0673 - accuracy: 0.5197\n",
      "Epoch 6/13\n",
      "22/22 [==============================] - ETA: 0s - loss: 2.4490 - accuracy: 0.5457\n",
      "에포크 6 - 트레이닝 손실: 2.448974370956421, 정확도: 0.545697033405304, 테스트 손실: 1.3895641565322876, 테스트 정확도: 0.685769259929657\n",
      "22/22 [==============================] - 6s 267ms/step - loss: 2.4490 - accuracy: 0.5457\n",
      "Epoch 7/13\n",
      "22/22 [==============================] - ETA: 0s - loss: 2.0988 - accuracy: 0.5489\n",
      "에포크 7 - 트레이닝 손실: 2.0988173484802246, 정확도: 0.5488975644111633, 테스트 손실: 1.3124018907546997, 테스트 정확도: 0.6896153688430786\n",
      "22/22 [==============================] - 6s 276ms/step - loss: 2.0988 - accuracy: 0.5489\n",
      "Epoch 8/13\n",
      "22/22 [==============================] - ETA: 0s - loss: 1.7276 - accuracy: 0.5733\n",
      "에포크 8 - 트레이닝 손실: 1.7276344299316406, 정확도: 0.5732574462890625, 테스트 손실: 1.4458316564559937, 테스트 정확도: 0.670769214630127\n",
      "22/22 [==============================] - 6s 263ms/step - loss: 1.7276 - accuracy: 0.5733\n",
      "Epoch 9/13\n",
      "22/22 [==============================] - ETA: 0s - loss: 1.5678 - accuracy: 0.5681\n",
      "에포크 9 - 트레이닝 손실: 1.5677943229675293, 정확도: 0.5681009888648987, 테스트 손실: 1.1853253841400146, 테스트 정확도: 0.7015384435653687\n",
      "22/22 [==============================] - 6s 281ms/step - loss: 1.5678 - accuracy: 0.5681\n",
      "Epoch 10/13\n",
      "22/22 [==============================] - ETA: 0s - loss: 1.3450 - accuracy: 0.6062\n",
      "에포크 10 - 트레이닝 손실: 1.3450101613998413, 정확도: 0.6061521768569946, 테스트 손실: 1.1927435398101807, 테스트 정확도: 0.6884615421295166\n",
      "22/22 [==============================] - 6s 265ms/step - loss: 1.3450 - accuracy: 0.6062\n",
      "Epoch 11/13\n",
      "22/22 [==============================] - ETA: 0s - loss: 1.2715 - accuracy: 0.6255\n",
      "에포크 11 - 트레이닝 손실: 1.2715497016906738, 정확도: 0.625533401966095, 테스트 손실: 1.118788242340088, 테스트 정확도: 0.7253845930099487\n",
      "22/22 [==============================] - 6s 274ms/step - loss: 1.2715 - accuracy: 0.6255\n",
      "Epoch 12/13\n",
      "22/22 [==============================] - ETA: 0s - loss: 1.1582 - accuracy: 0.6751\n",
      "에포크 12 - 트레이닝 손실: 1.1581921577453613, 정확도: 0.675142228603363, 테스트 손실: 1.1006985902786255, 테스트 정확도: 0.7323076725006104\n",
      "22/22 [==============================] - 6s 271ms/step - loss: 1.1582 - accuracy: 0.6751\n",
      "Epoch 13/13\n",
      "22/22 [==============================] - ETA: 0s - loss: 1.1289 - accuracy: 0.7048\n",
      "에포크 13 - 트레이닝 손실: 1.1288622617721558, 정확도: 0.7048364281654358, 테스트 손실: 1.1981035470962524, 테스트 정확도: 0.614230751991272\n",
      "22/22 [==============================] - 6s 275ms/step - loss: 1.1289 - accuracy: 0.7048\n"
     ]
    },
    {
     "data": {
      "text/plain": [
       "<keras.src.callbacks.History at 0x1725500be90>"
      ]
     },
     "execution_count": 9,
     "metadata": {},
     "output_type": "execute_result"
    }
   ],
   "source": [
    "from keras.callbacks import Callback\n",
    "\n",
    "class CombinedCallback(Callback):\n",
    "    def __init__(self, test_data):\n",
    "        super().__init__()\n",
    "        self.test_data = test_data\n",
    "        self.train_losses = []\n",
    "        self.train_accuracies = []\n",
    "        self.test_losses = []\n",
    "        self.test_accuracies = []\n",
    "        \n",
    "    def on_epoch_end(self, epoch, logs=None):\n",
    "        # 트레이닝 성능 저장\n",
    "        self.train_losses.append(logs['loss'])\n",
    "        self.train_accuracies.append(logs['accuracy'])\n",
    "        \n",
    "        # 테스트 세트 평가 및 성능 저장\n",
    "        x, y = self.test_data\n",
    "        loss, acc = self.model.evaluate(x, y, verbose=0)\n",
    "        self.test_losses.append(loss)\n",
    "        self.test_accuracies.append(acc)\n",
    "        \n",
    "        print(f'\\n에포크 {epoch+1} - 트레이닝 손실: {logs[\"loss\"]}, 정확도: {logs[\"accuracy\"]}, 테스트 손실: {loss}, 테스트 정확도: {acc}')\n",
    "\n",
    "# custom callback\n",
    "callbacks = CombinedCallback((test_images,test_labels))\n",
    "\n",
    "model.fit(train_images, np.array(train_labels), epochs=13, batch_size=256, callbacks=callbacks)"
   ]
  },
  {
   "cell_type": "code",
   "execution_count": 10,
   "metadata": {},
   "outputs": [
    {
     "data": {
      "image/png": "[encoded data removed]",
      "text/plain": [
       "<Figure size 640x480 with 1 Axes>"
      ]
     },
     "metadata": {},
     "output_type": "display_data"
    }
   ],
   "source": [
    "import matplotlib.pyplot as plt\n",
    "\n",
    "# Train accuracies와 test accuracies를 그래프로 표시\n",
    "\n",
    "plt.plot(range(len(callbacks.train_accuracies)), callbacks.train_accuracies, label='Train Accuracy')\n",
    "plt.plot(range(len(callbacks.test_accuracies)), callbacks.test_accuracies, label='Test Accuracy')\n",
    "\n",
    "plt.xlabel('Epoch')\n",
    "plt.ylabel('Accuracy')\n",
    "plt.legend()\n",
    "plt.show()"
   ]
  },
  {
   "cell_type": "code",
   "execution_count": 11,
   "metadata": {},
   "outputs": [
    {
     "data": {
      "image/png": "[encoded data removed]",
      "text/plain": [
       "<Figure size 640x480 with 1 Axes>"
      ]
     },
     "metadata": {},
     "output_type": "display_data"
    }
   ],
   "source": [
    "plt.plot(range(len(callbacks.train_accuracies)), callbacks.train_losses, label='Train loss')\n",
    "plt.plot(range(len(callbacks.test_accuracies)), callbacks.test_losses, label='Test loss')\n",
    "\n",
    "plt.xlabel('Epoch')\n",
    "plt.ylabel('Loss')\n",
    "plt.legend()\n",
    "plt.show()"
   ]
  },
  {
   "cell_type": "code",
   "execution_count": 12,
   "metadata": {},
   "outputs": [
    {
     "data": {
      "text/plain": [
       "<keras.src.engine.sequential.Sequential at 0x17255103e10>"
      ]
     },
     "execution_count": 12,
     "metadata": {},
     "output_type": "execute_result"
    }
   ],
   "source": [
    "model"
   ]
  },
  {
   "cell_type": "code",
   "execution_count": null,
   "metadata": {},
   "outputs": [],
   "source": []
  },
  {
   "cell_type": "code",
   "execution_count": null,
   "metadata": {},
   "outputs": [],
   "source": []
  },
  {
   "cell_type": "code",
   "execution_count": null,
   "metadata": {},
   "outputs": [],
   "source": []
  },
  {
   "cell_type": "code",
   "execution_count": null,
   "metadata": {},
   "outputs": [],
   "source": []
  },
  {
   "cell_type": "code",
   "execution_count": null,
   "metadata": {},
   "outputs": [],
   "source": []
  },
  {
   "cell_type": "code",
   "execution_count": null,
   "metadata": {},
   "outputs": [],
   "source": []
  },
  {
   "cell_type": "code",
   "execution_count": null,
   "metadata": {},
   "outputs": [],
   "source": []
  },
  {
   "cell_type": "code",
   "execution_count": null,
   "metadata": {},
   "outputs": [],
   "source": []
  },
  {
   "cell_type": "code",
   "execution_count": null,
   "metadata": {},
   "outputs": [],
   "source": []
  },
  {
   "cell_type": "code",
   "execution_count": null,
   "metadata": {},
   "outputs": [],
   "source": []
  },
  {
   "cell_type": "code",
   "execution_count": null,
   "metadata": {},
   "outputs": [],
   "source": []
  },
  {
   "cell_type": "code",
   "execution_count": null,
   "metadata": {},
   "outputs": [],
   "source": []
  },
  {
   "cell_type": "code",
   "execution_count": null,
   "metadata": {},
   "outputs": [],
   "source": []
  },
  {
   "cell_type": "code",
   "execution_count": null,
   "metadata": {},
   "outputs": [],
   "source": []
  },
  {
   "cell_type": "code",
   "execution_count": null,
   "metadata": {},
   "outputs": [],
   "source": []
  },
  {
   "cell_type": "code",
   "execution_count": null,
   "metadata": {},
   "outputs": [],
   "source": []
  },
  {
   "cell_type": "code",
   "execution_count": null,
   "metadata": {},
   "outputs": [],
   "source": []
  },
  {
   "cell_type": "code",
   "execution_count": null,
   "metadata": {},
   "outputs": [],
   "source": []
  },
  {
   "cell_type": "code",
   "execution_count": null,
   "metadata": {},
   "outputs": [],
   "source": []
  },
  {
   "cell_type": "code",
   "execution_count": null,
   "metadata": {},
   "outputs": [],
   "source": []
  },
  {
   "cell_type": "code",
   "execution_count": null,
   "metadata": {},
   "outputs": [],
   "source": []
  },
  {
   "cell_type": "code",
   "execution_count": null,
   "metadata": {},
   "outputs": [],
   "source": []
  },
  {
   "cell_type": "code",
   "execution_count": null,
   "metadata": {},
   "outputs": [],
   "source": []
  },
  {
   "cell_type": "code",
   "execution_count": null,
   "metadata": {},
   "outputs": [],
   "source": []
  },
  {
   "cell_type": "code",
   "execution_count": null,
   "metadata": {},
   "outputs": [],
   "source": []
  },
  {
   "cell_type": "code",
   "execution_count": null,
   "metadata": {},
   "outputs": [],
   "source": []
  },
  {
   "cell_type": "code",
   "execution_count": null,
   "metadata": {},
   "outputs": [],
   "source": []
  },
  {
   "cell_type": "code",
   "execution_count": null,
   "metadata": {},
   "outputs": [],
   "source": []
  },
  {
   "cell_type": "code",
   "execution_count": null,
   "metadata": {},
   "outputs": [],
   "source": []
  },
  {
   "cell_type": "code",
   "execution_count": null,
   "metadata": {},
   "outputs": [],
   "source": []
  },
  {
   "cell_type": "code",
   "execution_count": null,
   "metadata": {},
   "outputs": [],
   "source": []
  },
  {
   "cell_type": "code",
   "execution_count": null,
   "metadata": {},
   "outputs": [],
   "source": []
  },
  {
   "cell_type": "code",
   "execution_count": null,
   "metadata": {},
   "outputs": [],
   "source": []
  },
  {
   "cell_type": "code",
   "execution_count": null,
   "metadata": {},
   "outputs": [],
   "source": []
  },
  {
   "cell_type": "code",
   "execution_count": null,
   "metadata": {},
   "outputs": [],
   "source": []
  },
  {
   "cell_type": "code",
   "execution_count": null,
   "metadata": {},
   "outputs": [],
   "source": []
  },
  {
   "cell_type": "code",
   "execution_count": null,
   "metadata": {},
   "outputs": [],
   "source": []
  },
  {
   "cell_type": "code",
   "execution_count": null,
   "metadata": {},
   "outputs": [],
   "source": []
  },
  {
   "cell_type": "code",
   "execution_count": null,
   "metadata": {},
   "outputs": [],
   "source": []
  },
  {
   "cell_type": "code",
   "execution_count": null,
   "metadata": {},
   "outputs": [],
   "source": []
  },
  {
   "cell_type": "code",
   "execution_count": null,
   "metadata": {},
   "outputs": [],
   "source": []
  },
  {
   "cell_type": "code",
   "execution_count": null,
   "metadata": {},
   "outputs": [],
   "source": []
  },
  {
   "cell_type": "code",
   "execution_count": null,
   "metadata": {},
   "outputs": [],
   "source": []
  },
  {
   "cell_type": "code",
   "execution_count": null,
   "metadata": {},
   "outputs": [],
   "source": []
  },
  {
   "cell_type": "code",
   "execution_count": null,
   "metadata": {},
   "outputs": [],
   "source": []
  },
  {
   "cell_type": "code",
   "execution_count": null,
   "metadata": {},
   "outputs": [],
   "source": []
  },
  {
   "cell_type": "code",
   "execution_count": null,
   "metadata": {},
   "outputs": [],
   "source": []
  },
  {
   "cell_type": "code",
   "execution_count": null,
   "metadata": {},
   "outputs": [],
   "source": []
  },
  {
   "cell_type": "code",
   "execution_count": null,
   "metadata": {},
   "outputs": [],
   "source": []
  },
  {
   "cell_type": "code",
   "execution_count": null,
   "metadata": {},
   "outputs": [],
   "source": []
  },
  {
   "cell_type": "code",
   "execution_count": null,
   "metadata": {},
   "outputs": [],
   "source": []
  },
  {
   "cell_type": "code",
   "execution_count": null,
   "metadata": {},
   "outputs": [],
   "source": []
  },
  {
   "cell_type": "code",
   "execution_count": null,
   "metadata": {},
   "outputs": [],
   "source": []
  },
  {
   "cell_type": "code",
   "execution_count": null,
   "metadata": {},
   "outputs": [],
   "source": []
  },
  {
   "cell_type": "code",
   "execution_count": null,
   "metadata": {},
   "outputs": [],
   "source": []
  },
  {
   "cell_type": "code",
   "execution_count": null,
   "metadata": {},
   "outputs": [],
   "source": []
  },
  {
   "cell_type": "code",
   "execution_count": null,
   "metadata": {},
   "outputs": [],
   "source": []
  },
  {
   "cell_type": "code",
   "execution_count": null,
   "metadata": {},
   "outputs": [],
   "source": []
  },
  {
   "cell_type": "code",
   "execution_count": null,
   "metadata": {},
   "outputs": [],
   "source": []
  },
  {
   "cell_type": "code",
   "execution_count": null,
   "metadata": {},
   "outputs": [],
   "source": []
  }
 ],
 "metadata": {
  "kernelspec": {
   "display_name": "base",
   "language": "python",
   "name": "python3"
  },
  "language_info": {
   "codemirror_mode": {
    "name": "ipython",
    "version": 3
   },
   "file_extension": ".py",
   "mimetype": "text/x-python",
   "name": "python",
   "nbconvert_exporter": "python",
   "pygments_lexer": "ipython3",
   "version": "3.11.5"
  }
 },
 "nbformat": 4,
 "nbformat_minor": 2
}
